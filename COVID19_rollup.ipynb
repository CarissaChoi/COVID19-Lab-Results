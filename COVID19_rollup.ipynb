{
 "cells": [
  {
   "cell_type": "markdown",
   "metadata": {},
   "source": [
    "# COVID-19 Testing Episodes\n",
    "Written by: Branson Chen, Hannah Chung, Kinwah Fung <br>\n",
    "Last modified: 20200506"
   ]
  },
  {
   "cell_type": "markdown",
   "metadata": {},
   "source": [
    "## Table of Contents\n",
    "\n",
    "<a href='#Overview'>Overview</a><br>\n",
    "<a href='#Input-variables'>Input variables</a><br>\n",
    "<a href='#Importing-data'>Importing data</a><br>\n",
    "<a href='#Roll-up-to-testing-episode'>Rollup to testing episode</a><br>\n",
    "<a href='#Final-output'>Final output</a><br>\n",
    "- <a href='#Data-definitions'>Data definitions</a><br>\n",
    "- <a href='#Additional-information'>Additional information</a><br>"
   ]
  },
  {
   "cell_type": "markdown",
   "metadata": {},
   "source": [
    "## Overview"
   ]
  },
  {
   "cell_type": "markdown",
   "metadata": {},
   "source": [
    "- This script takes as input the file created by COVID19_processing.ipynb\n",
    "    - Please specify output_flag = 1 or 2 in the previous program so the dataset contains the required variables\n",
    "- Next, exclusions are applied to remove observations with resultstatus = N/X/W\n",
    "- Some variables are created or assigned (e.g., interpretation_flag, covidtest)\n",
    "- The roll-up from TEST RESULTS to TESTING EPISODES occurs with multiple steps:\n",
    "    - TEST RESULTS are rolled-up to TEST REQUESTS: for each TEST REQUEST (ordersid+fillerordernumberid), select the result prioritizing latest release time and then clear covid results (covidtest) and then interpretations (interpretation_flag) and then covid result hierarchy (covidcode; P>I>N>D>C>R>blank) \n",
    "    - TEST REQUESTS are rolled-up to LAB ORDERS: for each LAB ORDER (ordersid), select the result prioritizing clear covid results (covidtest) and then latest release time and then covid result hierarchy (covidcode; P>I>N>D>C>R>blank) \n",
    "    - LAB ORDERS (with a patientid) are rolled-up to TESTING EPISODES: for each TESTING EPISODE (patientid+observationdate), select the result prioritizing the covid result hierarchy (covidcode; P>I>N>D>C>R>blank) and then latest release time and then smallest ordersid\n",
    "- Multiple lab orders for each testing episode will be transposed and added to the final dataset (ordersid1-n)\n",
    "- Multiple lab orders that contain the final covid result for each testing episode will be concatenated and added to the final dataset (final_result_ordersids)\n",
    "- Records without patientids will then be appended to the final dataset"
   ]
  },
  {
   "cell_type": "markdown",
   "metadata": {},
   "source": [
    "## Input variables"
   ]
  },
  {
   "cell_type": "code",
   "execution_count": null,
   "metadata": {},
   "outputs": [],
   "source": [
    "#input path and filename\n",
    "input_path = ''\n",
    "input_filename = 'output.csv'\n",
    "\n",
    "#output filename (should be .csv file)\n",
    "output_filename = 'episode.csv'"
   ]
  },
  {
   "cell_type": "markdown",
   "metadata": {},
   "source": [
    "## Importing data"
   ]
  },
  {
   "cell_type": "code",
   "execution_count": null,
   "metadata": {},
   "outputs": [],
   "source": [
    "import pandas as pd\n",
    "import numpy as np"
   ]
  },
  {
   "cell_type": "code",
   "execution_count": null,
   "metadata": {},
   "outputs": [],
   "source": [
    "df_raw = pd.read_csv(input_path+input_filename, dtype={'patientid':np.object})"
   ]
  },
  {
   "cell_type": "code",
   "execution_count": null,
   "metadata": {},
   "outputs": [],
   "source": [
    "#keep necessary columns\n",
    "df = df_raw.copy(deep = True)\n",
    "df = df[['patientid', 'ordersid', 'fillerordernumberid', 'observationdatetime', \n",
    "         'observationcode', 'observationreleasets', 'observationresultstatus', 'exclude_flag', 'covid']]\n",
    "df = df.fillna('')\n",
    "\n",
    "df['observationdatetime'] = pd.to_datetime(df['observationdatetime'])\n",
    "df['observationreleasets'] = pd.to_datetime(df['observationreleasets'])\n",
    "print('Number of records: ' + str(len(df)))"
   ]
  },
  {
   "cell_type": "code",
   "execution_count": null,
   "metadata": {},
   "outputs": [],
   "source": [
    "#remove observations based on observationresultstatus\n",
    "df_clean = df[~df['observationresultstatus'].isin(('N','X'))]\n",
    "print('Number of records removed with result status N/X: ' + str(sum(df['observationresultstatus'].isin(('N','X')))))\n",
    "df_clean = df_clean[df_clean['exclude_flag'] == 'N']\n",
    "print('Number of records removed with result status W (exclude_flag): ' + str(sum(df['exclude_flag'] == 'Y')))\n",
    "print('Number of records remaining: ' + str(len(df_clean)))\n",
    "print('Breakdown of covid variable:')\n",
    "print(df_clean['covid'].value_counts())"
   ]
  },
  {
   "cell_type": "code",
   "execution_count": null,
   "metadata": {},
   "outputs": [],
   "source": [
    "#hierarchy: P > I > N > D > C > R > blank\n",
    "#P = Positive, I = Indeterminate, N = Negative, D = penDing, C = Cancelled, R = Rejected/invalid, '' = blank\n",
    "result_mappings = {'P':1,'I':2,'N':3,'D':4,'C':5,'R':6,'':7}\n",
    "\n",
    "#assign S (presumptive-positive) as P (positive)\n",
    "df_clean.loc[df_clean['covid'] == 'S', 'covid'] = 'P'\n",
    "\n",
    "#convert covid result variable (from previous script) to number for hierarchy\n",
    "df_clean['covidcode'] = df_clean['covid'].map(result_mappings)\n",
    "\n",
    "###create new variables\n",
    "#interpretation_flag: observations that have a covid interpretation code\n",
    "df_clean['interpretation_flag'] = df_clean['observationcode'].apply(\n",
    "    lambda x: 'T' if x in ('XON10842-3','XON12338-0','XON13527-7') else 'F')\n",
    "#covidtest flag: observations that have a clear covid result (P, I, N, D)\n",
    "df_clean['covidtest'] = df_clean['covidcode'].apply(lambda x: 'T' if x in (1,2,3,4) else 'F')"
   ]
  },
  {
   "cell_type": "markdown",
   "metadata": {},
   "source": [
    "## Roll-up to testing episode"
   ]
  },
  {
   "cell_type": "code",
   "execution_count": null,
   "metadata": {},
   "outputs": [],
   "source": [
    "###ROLL UP from TEST RESULTS to TEST REQUESTS\n",
    "#hierarchy: latest observationreleasets > covidtest = 'T' > interpretation_flag = 'T' > covidcode (P>I>N>D>C>R>blank)\n",
    "df_clean.sort_values(['ordersid','fillerordernumberid','observationreleasets','covidtest','interpretation_flag','covidcode'],\n",
    "                     ascending=[True, True, False, False, False, True], inplace=True)\n",
    "\n",
    "df_testrequests = df_clean.groupby(['ordersid','fillerordernumberid']).first().reset_index()\n",
    "print('Number of TEST REQUESTS: ' + str(len(df_testrequests)))"
   ]
  },
  {
   "cell_type": "code",
   "execution_count": null,
   "metadata": {},
   "outputs": [],
   "source": [
    "###ROLL UP from TEST REQUESTS to LAB ORDERS\n",
    "#hierarchy: covidtest = 'T' > latest observationreleasets > covidcode (P>I>N>D>C>R>blank)\n",
    "df_testrequests.sort_values(['ordersid','covidtest','observationreleasets','covidcode'],\n",
    "                     ascending=[True, False, False, True], inplace=True)\n",
    "\n",
    "df_laborders = df_testrequests.groupby(['ordersid']).first().reset_index()\n",
    "print('Number of LAB ORDERS: ' + str(len(df_laborders)))"
   ]
  },
  {
   "cell_type": "code",
   "execution_count": null,
   "metadata": {},
   "outputs": [],
   "source": [
    "#add date versions of datetime\n",
    "df_laborders['observationdate'] = df_laborders['observationdatetime'].apply(lambda x: np.datetime64(x, 'D'))\n",
    "df_laborders['observationreleasedate'] = df_laborders['observationreleasets'].apply(lambda x: np.datetime64(x, 'D'))\n",
    "\n",
    "#split up records without a patientid\n",
    "keep_cols = ['patientid','ordersid','covid','covidcode','covidtest',\n",
    "             'observationdate','observationreleasedate', 'observationreleasets']\n",
    "df_laborders_nopat = df_laborders.loc[df_laborders['patientid'] == '', keep_cols]\n",
    "df_laborders_pat = df_laborders.loc[df_laborders['patientid'] != '', keep_cols]\n",
    "print('Number of records without a patientid: ' + str(len(df_laborders_nopat)))"
   ]
  },
  {
   "cell_type": "code",
   "execution_count": null,
   "metadata": {},
   "outputs": [],
   "source": [
    "###ROLL UP from lab orders to testing episodes (distinct by patientid-observationdate)\n",
    "#hierarchy: covidcode (P>I>N>D>C>R>blank) > latest observationreleasets > ordersid\n",
    "df_laborders_pat.sort_values(['patientid','observationdate','covidcode','observationreleasets','ordersid'],\n",
    "                             ascending=[True, True, True, False, True], inplace=True)\n",
    "df_episodes = df_laborders_pat.groupby(['patientid','observationdate']).first().reset_index()\n",
    "print('Number of TESTING EPISODES (with patientids): ' + str(len(df_episodes)))"
   ]
  },
  {
   "cell_type": "code",
   "execution_count": null,
   "metadata": {},
   "outputs": [],
   "source": [
    "#transpose all orders for each episode\n",
    "df_pivot = df_laborders_pat[['patientid','observationdate','ordersid']].copy()\n",
    "df_pivot.sort_values(['patientid','observationdate','ordersid'], inplace=True)\n",
    "\n",
    "df_pivot['order_num'] = df_pivot.groupby(['patientid','observationdate'])['ordersid'].rank(method='first')\n",
    "df_pivot['order_num'] = df_pivot['order_num'].apply(lambda x: 'ordersid' + str(int(x)))\n",
    "df_pivot = pd.pivot_table(df_pivot, values='ordersid', index=['patientid','observationdate'], columns='order_num').reset_index()\n",
    "\n",
    "#new variable that counts number of pivoted ordersids\n",
    "df_pivot['numordersid'] = df_pivot.iloc[:,2:].count(axis=1)"
   ]
  },
  {
   "cell_type": "code",
   "execution_count": null,
   "metadata": {},
   "outputs": [],
   "source": [
    "#concatenate ordersids with the same FINAL covidcode for each testing episode into final_result_ordersids\n",
    "df_result_ordersids = pd.merge(df_episodes[['patientid','observationdate','covidcode']],\n",
    "                     df_laborders_pat[['patientid','observationdate','covidcode','observationreleasets','ordersid']],\n",
    "                     on=['patientid','observationdate','covidcode'],\n",
    "                     how='inner')\n",
    "df_result_ordersids.sort_values(['patientid','observationdate','covidcode','observationreleasets','ordersid'],\n",
    "                                ascending=[True,True,True,False,True],\n",
    "                                inplace=True)\n",
    "df_result_ordersids = df_result_ordersids.groupby(['patientid','observationdate','covidcode'])\\\n",
    "    ['ordersid'].apply(lambda x: ','.join(map(str, map(int, x)))).reset_index()\n",
    "df_result_ordersids = df_result_ordersids.rename(columns={'ordersid':'final_result_ordersids'}).drop('covidcode',1)"
   ]
  },
  {
   "cell_type": "code",
   "execution_count": null,
   "metadata": {},
   "outputs": [],
   "source": [
    "#merging testing episodes with pivoted orders and final_result_ordersids\n",
    "df_final = pd.merge(df_pivot, df_episodes.drop(['ordersid','covidcode','observationreleasets'],1),\n",
    "                    on=['patientid','observationdate'], how='inner')\n",
    "df_final = pd.merge(df_final, df_result_ordersids, on=['patientid','observationdate'], how='inner')\n",
    "\n",
    "#adding the records with no patient id\n",
    "df_laborders_nopat['ordersid1'] = df_laborders_nopat['ordersid']\n",
    "df_laborders_nopat['final_result_ordersids'] = df_laborders_nopat['ordersid'].apply(int).apply(str)\n",
    "df_laborders_nopat['numordersid'] = 1\n",
    "df_final = pd.concat([df_final,\n",
    "                     df_laborders_nopat.drop(['ordersid','observationreleasets'],1)],\n",
    "                     sort=False).rename(columns={'covid':'covidresult'})\n",
    "df_final = df_final.drop('covidcode',1).sort_values(['patientid','observationdate'])\n",
    "\n",
    "print('Number of TESTING EPISODES (with records without patientids): ' + str(len(df_final)))\n",
    "print('Breakdown of covid variable:')\n",
    "print(df_final['covidresult'].value_counts())"
   ]
  },
  {
   "cell_type": "markdown",
   "metadata": {},
   "source": [
    "## Final output"
   ]
  },
  {
   "cell_type": "code",
   "execution_count": null,
   "metadata": {},
   "outputs": [],
   "source": [
    "#FINAL RESULT TO OUTPUT\n",
    "df_final.to_csv(output_filename, index=False)"
   ]
  },
  {
   "cell_type": "markdown",
   "metadata": {},
   "source": [
    "### Data definitions"
   ]
  },
  {
   "cell_type": "markdown",
   "metadata": {},
   "source": [
    "- patientid: PATIENTID variable from input file\n",
    "- observationdate: Specimen collection date\n",
    "- ordersid1-n: Transposed ORDERSIDs for this OBSERVATIONDATE\n",
    "- numordersid: Total # ORDERSIDs for this OBSERVATIONDATE [specimen collection date]\n",
    "- covidresult: COVID19 test result using hierarchy (Positive > Indeterminate > Negative > penDing > Cancelled > Rejected)\n",
    "- covidtest: Is it a COVID test (T/F)? T if COVIDRESULT = Positive, Indeterminate, Negative, or penDing\n",
    "- observationreleasedate: Observation release date\n",
    "- final_result_ordersids: Comma-delimited ORDERSIDs that have the same final COVIDRESULT after rolling-up"
   ]
  },
  {
   "cell_type": "markdown",
   "metadata": {},
   "source": [
    "### Additional information"
   ]
  },
  {
   "cell_type": "markdown",
   "metadata": {},
   "source": [
    "- If there are multiple ordersids that have the same final covidresult in the episode, they are listed in final_result_orderids, ordered by the latest observationrelesets then by ordersid\n",
    "- The observationreleasedate variable comes from the first ordersid in final_result_orderids (the first listed has the latest observationreleasets\n",
    "- We suggest using the first ordersid in final_result_orderids to retrieve any additional order-level information from the original data source"
   ]
  }
 ],
 "metadata": {
  "kernelspec": {
   "display_name": "Python 3",
   "language": "python",
   "name": "python3"
  },
  "language_info": {
   "codemirror_mode": {
    "name": "ipython",
    "version": 3
   },
   "file_extension": ".py",
   "mimetype": "text/x-python",
   "name": "python",
   "nbconvert_exporter": "python",
   "pygments_lexer": "ipython3",
   "version": "3.6.9"
  }
 },
 "nbformat": 4,
 "nbformat_minor": 2
}
