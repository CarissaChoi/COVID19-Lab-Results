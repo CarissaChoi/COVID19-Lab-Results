{
 "cells": [
  {
   "cell_type": "markdown",
   "metadata": {},
   "source": [
    "# COVID-19 Testing Episodes\n",
    "Written by: Branson Chen, Hannah Chung, Kinwah Fung <br>\n",
    "Last modified: 20210225"
   ]
  },
  {
   "cell_type": "markdown",
   "metadata": {},
   "source": [
    "## Table of Contents\n",
    "\n",
    "<a href='#Overview'>Overview</a><br>\n",
    "<a href='#Input-variables'>Input variables</a><br>\n",
    "<a href='#Importing-data'>Importing data</a><br>\n",
    "<a href='#Flag-different-test-types'>Flag different test types</a><br>\n",
    "<a href='#Roll-up-to-testing-episode'>Rollup to testing episode</a><br>\n",
    "<a href='#Final-output'>Final output</a><br>\n",
    "- <a href='#Data-definitions'>Data definitions</a><br>\n",
    "- <a href='#Additional-information'>Additional information</a><br>"
   ]
  },
  {
   "cell_type": "markdown",
   "metadata": {},
   "source": [
    "## Overview"
   ]
  },
  {
   "cell_type": "markdown",
   "metadata": {},
   "source": [
    "- This script takes as input the file created by COVID19_processing.ipynb\n",
    "    - Please specify output_flag = 1 or 2 in the previous program so the dataset contains the required variables\n",
    "- Next, exclusions are applied to remove observations with resultstatus = N/X/W and observations with blank covid variable\n",
    "- Some variables are created or assigned (e.g., interpretation_flag, covidtest, testtype)\n",
    "- The roll-up from TEST RESULTS to TESTING EPISODES occurs with multiple steps, for each test type:\n",
    "    - TEST RESULTS are rolled-up to TEST REQUESTS: for each TEST REQUEST (ordersid+fillerordernumberid), select the result by prioritizing latest release time and then clear covid results (covidtest) and then interpretations (interpretation_flag) and then covid result hierarchy (covidcode; P>I>N>D>C>R) \n",
    "    - TEST REQUESTS are rolled-up to LAB ORDERS: for each LAB ORDER (ordersid), select the result by prioritizing clear covid results (covidtest) and then latest release time and then covid result hierarchy (covidcode; P>I>N>D>C>R) \n",
    "    - LAB ORDERS (with a patientid) are rolled-up to TESTING EPISODES: for each TESTING EPISODE (patientid+observationdate), select the result by prioritizing the covid result hierarchy (covidcode; P>I>N>D>C>R) and then latest release time and then lowest ordersid\n",
    "- Multiple lab orders for each testing episode will be transposed and added to the final dataset (ordersid1-n)\n",
    "- Multiple lab orders that contain the final covid result for each testing episode will be concatenated and added to the final dataset (final_result_ordersids)\n",
    "- Records without patientids will then be appended to the final dataset"
   ]
  },
  {
   "cell_type": "markdown",
   "metadata": {},
   "source": [
    "## Input variables"
   ]
  },
  {
   "cell_type": "code",
   "execution_count": null,
   "metadata": {},
   "outputs": [],
   "source": [
    "#input path and filename\n",
    "input_path = ''\n",
    "input_filename = 'output.csv'\n",
    "\n",
    "#output filename #1\n",
    "output_filename1 = 'episodes'\n",
    "\n",
    "#output filename #2\n",
    "output_filename2 = 'laborders'\n",
    "\n",
    "#output filename #3\n",
    "output_filename3 = 'testrequests'\n",
    "\n",
    "#output additional datasets (list the datasets to output)\n",
    "#1 = episode-level, 2 = laborder-level, 3 = testrequest-level\n",
    "output_list = [1,]"
   ]
  },
  {
   "cell_type": "markdown",
   "metadata": {},
   "source": [
    "## Importing data"
   ]
  },
  {
   "cell_type": "code",
   "execution_count": null,
   "metadata": {},
   "outputs": [],
   "source": [
    "import pandas as pd\n",
    "import numpy as np"
   ]
  },
  {
   "cell_type": "code",
   "execution_count": null,
   "metadata": {},
   "outputs": [],
   "source": [
    "df_raw = pd.read_csv(input_path+input_filename, dtype={'patientid':np.object}, low_memory=False)"
   ]
  },
  {
   "cell_type": "code",
   "execution_count": null,
   "metadata": {},
   "outputs": [],
   "source": [
    "#keep necessary columns\n",
    "df = df_raw.copy(deep = True)\n",
    "df = df[['patientid', 'ordersid', 'fillerordernumberid', 'observationdatetime', 'testrequestcode',\n",
    "         'observationcode', 'observationreleasets', 'observationresultstatus', \n",
    "         'exclude_flag', 'covid']]\n",
    "df = df.fillna('')\n",
    "\n",
    "df['ordersid'] = df['ordersid'].apply(int)\n",
    "df['observationdatetime'] = pd.to_datetime(df['observationdatetime'])\n",
    "df['observationreleasets'] = pd.to_datetime(df['observationreleasets'])\n",
    "print('Number of records from original dataset: ' + str(len(df)))"
   ]
  },
  {
   "cell_type": "code",
   "execution_count": null,
   "metadata": {},
   "outputs": [],
   "source": [
    "#remove observations based on observationresultstatus\n",
    "print('Number of records removed with result status N/X: '+str(sum(df['observationresultstatus'].isin(('N','X')))))\n",
    "df_clean = df[~df['observationresultstatus'].isin(('N','X'))]\n",
    "\n",
    "print('Number of records removed with result status W (exclude_flag): '+str(sum(df_clean['exclude_flag'] == 'Y')))\n",
    "df_clean = df_clean[df_clean['exclude_flag'] == 'N']\n",
    "\n",
    "print('Number of records remaining: '+str(len(df_clean)))\n",
    "print('Breakdown of covid variable:')\n",
    "print(df_clean['covid'].value_counts())"
   ]
  },
  {
   "cell_type": "code",
   "execution_count": null,
   "metadata": {},
   "outputs": [],
   "source": [
    "#remove records with blank covid variable\n",
    "print('Number of records removed with blank covid variable: '+str(sum(df_clean['covid'] == '')))\n",
    "df_clean = df_clean[df_clean['covid'] != '']\n",
    "\n",
    "print('Number of records remaining: '+str(len(df_clean)))"
   ]
  },
  {
   "cell_type": "code",
   "execution_count": null,
   "metadata": {},
   "outputs": [],
   "source": [
    "#hierarchy: P > I > N > D > C > R \n",
    "#P = Positive, I = Indeterminate, N = Negative, D = penDing, C = Cancelled, R = Rejected/invalid\n",
    "result_mappings = {'P':1,'I':2,'N':3,'D':4,'C':5,'R':6}\n",
    "\n",
    "#assign S (presumptive-positive) as P (positive)\n",
    "df_clean.loc[df_clean['covid'] == 'S', 'covid'] = 'P'\n",
    "\n",
    "#convert covid result variable (from previous script) to number for hierarchy\n",
    "df_clean['covidcode'] = df_clean['covid'].map(result_mappings)\n",
    "\n",
    "###create new variables\n",
    "#interpretation_flag: observations that have a covid interpretation code\n",
    "df_clean['interpretation_flag'] = df_clean['observationcode'].apply(\n",
    "    lambda x: 'T' if x in ('XON10842-3','XON12338-0','XON13527-7') else 'F')\n",
    "#covidtest: observations that have a clear covid result (P, I, N, D)\n",
    "df_clean['covidtest'] = df_clean['covidcode'].apply(lambda x: 'T' if x in (1,2,3,4) else 'F')\n",
    "#date versions of datetime\n",
    "df_clean['observationdate'] = df_clean['observationdatetime'].apply(lambda x: np.datetime64(x, 'D'))\n",
    "df_clean['observationreleasedate'] = df_clean['observationreleasets'].apply(lambda x: np.datetime64(x, 'D'))\n",
    "\n",
    "#drop used columns\n",
    "df_clean.drop(['observationresultstatus','exclude_flag','observationcode','observationdatetime'], 1, inplace=True)"
   ]
  },
  {
   "cell_type": "markdown",
   "metadata": {},
   "source": [
    "## Flag different test types"
   ]
  },
  {
   "cell_type": "code",
   "execution_count": null,
   "metadata": {},
   "outputs": [],
   "source": [
    "#set all records to blank testtype (standard pcr) as default\n",
    "df_clean['testtype'] = ''\n",
    "\n",
    "#set rapid tests based on testrequestcode = TR12946-0\n",
    "df_clean.loc[df_clean['testrequestcode'].isin(['TR12946-0',]), 'testtype'] = '_rapid'\n",
    "\n",
    "#set rapid tests based on testrequestcode = TR12947-8\n",
    "df_clean.loc[df_clean['testrequestcode'].isin(['TR12947-8',]), 'testtype'] = '_rapid_a'\n",
    "\n",
    "#covid observations by testtype\n",
    "df_clean['testtype'].value_counts()"
   ]
  },
  {
   "cell_type": "markdown",
   "metadata": {},
   "source": [
    "## Roll-up to testing episode"
   ]
  },
  {
   "cell_type": "code",
   "execution_count": null,
   "metadata": {},
   "outputs": [],
   "source": [
    "###ROLL UP from TEST RESULTS to TEST REQUESTS\n",
    "#hierarchy: latest observationreleasets > covidtest = 'T' > interpretation_flag = 'T' > covidcode (P>I>N>D>C>R)\n",
    "df_clean.sort_values(\n",
    "        ['ordersid','fillerordernumberid','observationreleasets','covidtest','interpretation_flag','covidcode'],\n",
    "        ascending=[True, True, False, False, False, True], \n",
    "        inplace=True)\n",
    "\n",
    "def testresults_to_testrequests(testtype):\n",
    "    #separate by testtype\n",
    "    df_testrequests = df_clean.loc[df_clean['testtype'] == testtype, :].drop(['testtype','testrequestcode'],1).groupby(\n",
    "        ['ordersid','fillerordernumberid']).first().reset_index()\n",
    "    \n",
    "    print('Number of TEST REQUESTS: '+str(len(df_testrequests)))\n",
    "    return df_testrequests"
   ]
  },
  {
   "cell_type": "code",
   "execution_count": null,
   "metadata": {},
   "outputs": [],
   "source": [
    "###ROLL UP from TEST REQUESTS to LAB ORDERS\n",
    "#hierarchy: covidtest = 'T' > latest observationreleasets > covidcode (P>I>N>D>C>R)\n",
    "def testrequests_to_laborders():\n",
    "    df_testrequests.sort_values(['ordersid','covidtest','observationreleasets','covidcode'],\n",
    "                                ascending=[True, False, False, True],\n",
    "                                inplace=True)\n",
    "\n",
    "    df_laborders = df_testrequests.drop(['fillerordernumberid','interpretation_flag'],1)\\\n",
    "                                    .groupby(['ordersid']).first().reset_index()\n",
    "    \n",
    "    print('Number of LAB ORDERS: '+str(len(df_laborders)))\n",
    "    return df_laborders"
   ]
  },
  {
   "cell_type": "code",
   "execution_count": null,
   "metadata": {},
   "outputs": [],
   "source": [
    "#split up records without a patientid\n",
    "def split_patientid():\n",
    "    df_laborders_nopat = df_laborders[df_laborders['patientid'] == ''].copy()\n",
    "    df_laborders_pat = df_laborders[df_laborders['patientid'] != ''].copy() \n",
    "    \n",
    "    print('Number of LAB ORDERS without a patientid: ' + str(len(df_laborders_nopat)))\n",
    "    print('Number of LAB ORDERS with a patientid: ' + str(len(df_laborders_pat)))\n",
    "    return df_laborders_nopat, df_laborders_pat"
   ]
  },
  {
   "cell_type": "code",
   "execution_count": null,
   "metadata": {},
   "outputs": [],
   "source": [
    "###ROLL UP from lab orders to testing episodes (distinct by patientid-observationdate)\n",
    "#hierarchy: covidcode (P>I>N>D>C>R) > latest observationreleasets > lowest ordersid\n",
    "def laborders_to_testingepisodes():\n",
    "    df_laborders_pat.sort_values(['patientid','observationdate','covidcode','observationreleasets','ordersid'],\n",
    "                                 ascending=[True, True, True, False, True], \n",
    "                                 inplace=True)\n",
    "\n",
    "    df_episodes = df_laborders_pat.groupby(['patientid','observationdate']).first().reset_index()\n",
    "    \n",
    "    print('Number of TESTING EPISODES (with a patientid): '+str(len(df_episodes)))\n",
    "    return df_episodes"
   ]
  },
  {
   "cell_type": "code",
   "execution_count": null,
   "metadata": {},
   "outputs": [],
   "source": [
    "#transpose all orders for each episode\n",
    "def transpose_orders(testtype):\n",
    "    df_pivot = df_laborders_pat[['patientid','observationdate','ordersid']].copy()\n",
    "    df_pivot.sort_values(['patientid','observationdate','ordersid'], inplace=True)\n",
    "\n",
    "    df_pivot['order_num'] = df_pivot.groupby(['patientid','observationdate'])['ordersid'].rank(method='first')\n",
    "    df_pivot['order_num'] = df_pivot['order_num'].apply(lambda x: 'ordersid' + str(int(x)))\n",
    "    df_pivot = pd.pivot_table(df_pivot, \n",
    "                              values='ordersid', \n",
    "                              index=['patientid','observationdate'], \n",
    "                              columns='order_num').reset_index()\n",
    "\n",
    "    #new variable that counts number of pivoted ordersids\n",
    "    df_pivot['numordersid'] = df_pivot.iloc[:,2:].count(axis=1)\n",
    "    \n",
    "    #use pcr df_pivot as base structure assuming it has the most ordersids in one testing episode\n",
    "    if testtype != '':\n",
    "        df_pivot = pd.concat([df_pivot_base, df_pivot], axis=0, sort=False)\n",
    "        \n",
    "    print('Most ordersids in one TESTING EPISODE:', max(df_pivot['numordersid']))\n",
    "    \n",
    "    return df_pivot, df_pivot[0:0]"
   ]
  },
  {
   "cell_type": "code",
   "execution_count": null,
   "metadata": {},
   "outputs": [],
   "source": [
    "#concatenate ordersids with the same FINAL covidcode for each testing episode into final_result_ordersids\n",
    "def final_results():\n",
    "    df_result_ordersids = pd.merge(df_episodes[['patientid','observationdate','covidcode']],\n",
    "                                   df_laborders_pat[['patientid','observationdate','covidcode',\n",
    "                                                     'observationreleasets','ordersid']],\n",
    "                                   on=['patientid','observationdate','covidcode'],\n",
    "                                   how='inner')\n",
    "    df_result_ordersids.sort_values(['patientid','observationdate','covidcode','observationreleasets','ordersid'],\n",
    "                                    ascending=[True,True,True,False,True],\n",
    "                                    inplace=True)\n",
    "    \n",
    "    df_result_ordersids = df_result_ordersids.groupby(['patientid','observationdate','covidcode'])\\\n",
    "        ['ordersid'].apply(lambda x: ','.join(map(str,x))).reset_index()\n",
    "    df_result_ordersids = df_result_ordersids.rename(columns={'ordersid':'final_result_ordersids'}).drop('covidcode',1)\n",
    "    \n",
    "    return df_result_ordersids"
   ]
  },
  {
   "cell_type": "code",
   "execution_count": null,
   "metadata": {
    "scrolled": true
   },
   "outputs": [],
   "source": [
    "#merging testing episodes with pivoted orders and final_result_ordersids\n",
    "def final_dataset():\n",
    "    df_final = pd.merge(df_pivot, df_episodes.drop(['ordersid','covidcode','observationreleasets'],1),\n",
    "                        on=['patientid','observationdate'], how='inner')\n",
    "    df_final = pd.merge(df_final, df_result_ordersids, on=['patientid','observationdate'], how='inner')\n",
    "\n",
    "    #adding the records with no patient id\n",
    "    df_laborders_nopat.rename(columns={'ordersid':'ordersid1'}, inplace=True)\n",
    "    df_laborders_nopat['final_result_ordersids'] = df_laborders_nopat['ordersid1'].apply(str)\n",
    "    df_laborders_nopat['numordersid'] = 1\n",
    "    df_final = pd.concat([df_final,\n",
    "                         df_laborders_nopat.drop(['covidcode','observationreleasets'],1)],\n",
    "                         sort=False).rename(columns={'covid':'covidresult'})\n",
    "    df_final = df_final.sort_values(['patientid','observationdate'])\n",
    "\n",
    "    #reorder the columns to have ordersid1-10 in order and ordersid11+ at the end\n",
    "    ordersids_cols = [o for o in df_final.columns if o.startswith('ordersid')]\n",
    "    ordersids_cols_s = sorted(ordersids_cols, key=lambda x: int(''.join(filter(lambda y: y.isdigit(), x))))\n",
    "\n",
    "    reordered_cols = ['patientid','observationdate'] + ordersids_cols_s[0:10] + ['numordersid', 'covidresult', 'covidtest',\n",
    "           'observationreleasedate', 'final_result_ordersids'] + ordersids_cols_s[10:]\n",
    "    \n",
    "    df_final = df_final.loc[:,reordered_cols]\n",
    "    \n",
    "    print('Number of TESTING EPISODES (including records without patientids): ' + str(len(df_final)))\n",
    "    print('Breakdown of covid variable:')\n",
    "    print(df_final['covidresult'].value_counts())\n",
    "    return df_final"
   ]
  },
  {
   "cell_type": "markdown",
   "metadata": {},
   "source": [
    "## Final output"
   ]
  },
  {
   "cell_type": "code",
   "execution_count": null,
   "metadata": {
    "scrolled": true
   },
   "outputs": [],
   "source": [
    "#go through all of the test types in df_clean\n",
    "for testtype in sorted(df_clean['testtype'].unique()):\n",
    "    print('------- PROCESSING TEST TYPE: ***'+('pcr' if testtype == '' else testtype[1:])+'*** -------')\n",
    "    df_testrequests = testresults_to_testrequests(testtype)\n",
    "    df_laborders = testrequests_to_laborders()\n",
    "    df_laborders_nopat, df_laborders_pat = split_patientid()\n",
    "    df_episodes = laborders_to_testingepisodes()\n",
    "    df_pivot, df_pivot_base = transpose_orders(testtype)\n",
    "    df_result_ordersids = final_results()\n",
    "    df_final = final_dataset()\n",
    "    \n",
    "    #FINAL RESULT TO OUTPUT\n",
    "    for i in output_list:\n",
    "        if i == 1:\n",
    "            df_final.to_csv(output_filename1+testtype+'.csv', index=False)\n",
    "        if i == 2:\n",
    "            df_laborders.to_csv(output_filename2+testtype+'.csv', index=False)\n",
    "        if i == 3:\n",
    "            df_testrequests.to_csv(output_filename3+testtype+'.csv', index=False)\n",
    "        \n",
    "print('------- COMPLETE -------')\n"
   ]
  },
  {
   "cell_type": "markdown",
   "metadata": {},
   "source": [
    "### Data definitions"
   ]
  },
  {
   "cell_type": "markdown",
   "metadata": {},
   "source": [
    "- patientid: PATIENTID variable from input file\n",
    "- observationdate: Specimen collection date\n",
    "- ordersid1-n: Transposed ORDERSIDs for this OBSERVATIONDATE\n",
    "- numordersid: Total # ORDERSIDs for this OBSERVATIONDATE [specimen collection date]\n",
    "- covidresult: COVID19 test result using hierarchy (Positive > Indeterminate > Negative > penDing > Cancelled > Rejected)\n",
    "- covidtest: Is it a COVID test (T/F)? T if COVIDRESULT = Positive, Indeterminate, Negative, or penDing\n",
    "- observationreleasedate: Observation release date\n",
    "- final_result_ordersids: Comma-delimited ORDERSIDs that have the same final COVIDRESULT after rolling-up"
   ]
  },
  {
   "cell_type": "markdown",
   "metadata": {},
   "source": [
    "### Additional information"
   ]
  },
  {
   "cell_type": "markdown",
   "metadata": {},
   "source": [
    "- If there are multiple ordersids that have the same final covidresult in the episode, they are listed in final_result_orderids, ordered by the latest observationrelesets then by lowest ordersid\n",
    "- The observationreleasedate variable comes from the first ordersid listed in final_result_orderids (the first listed has the **latest** observationreleasets)\n",
    "- We suggest using the first ordersid in final_result_orderids to retrieve any additional order-level information from the original data source"
   ]
  }
 ],
 "metadata": {
  "kernelspec": {
   "display_name": "Python 3",
   "language": "python",
   "name": "python3"
  },
  "language_info": {
   "codemirror_mode": {
    "name": "ipython",
    "version": 3
   },
   "file_extension": ".py",
   "mimetype": "text/x-python",
   "name": "python",
   "nbconvert_exporter": "python",
   "pygments_lexer": "ipython3",
   "version": "3.6.9"
  }
 },
 "nbformat": 4,
 "nbformat_minor": 2
}
